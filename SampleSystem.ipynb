{
 "cells": [
  {
   "cell_type": "markdown",
   "metadata": {},
   "source": [
    "## Importing needed packages"
   ]
  },
  {
   "cell_type": "code",
   "execution_count": 2,
   "metadata": {},
   "outputs": [],
   "source": [
    "import numpy as np\n",
    "import gurobipy as gp\n",
    "from gurobipy import GRB\n",
    "import pandas as pd"
   ]
  },
  {
   "cell_type": "markdown",
   "metadata": {},
   "source": [
    "## Defining Input Data"
   ]
  },
  {
   "cell_type": "code",
   "execution_count": 7,
   "metadata": {},
   "outputs": [],
   "source": [
    "# Create a dataframe for Capacity Cost\n",
    "CapCost = pd.DataFrame({\n",
    "    'Plant': ['Coal', 'Gas', 'Nuclear', 'Wind', 'Solar'],\n",
    "    'CapCost[€/MW]': [100, 50, 200, 150, 300]\n",
    "})\n",
    "\n",
    "# Create a dataframe for Operating Cost\n",
    "OpCost = pd.DataFrame({\n",
    "    'Plant': ['Coal', 'Gas', 'Nuclear', 'Wind', 'Solar'],\n",
    "    'OpCost[€/MWh]': [20, 80, 10, 0, 0]\n",
    "})\n",
    "\n",
    "# Create a dataframe for Storage Cost\n",
    "StorCost = pd.DataFrame({\n",
    "    'Plant': ['Battery', 'Pumped Hydro'],\n",
    "    'StorCost[€/MWh]': [100, 50]\n",
    "})\n",
    "\n",
    "# Create a dataframe for Capacity Limit\n",
    "CapLim = pd.DataFrame({\n",
    "    'Plant': ['Coal', 'Gas', 'Nuclear', 'Wind', 'Solar'],\n",
    "    'CapLim[MW]': [100, 100, 100, 100, 100]\n",
    "})\n",
    "\n",
    "# Create a dataframe for existing capacity\n",
    "CapExi = pd.DataFrame({\n",
    "    'Plant': ['Coal', 'Gas', 'Nuclear', 'Wind', 'Solar'],\n",
    "    'ExCap[MW]': [100, 50, 50, 100, 100]\n",
    "})\n",
    "\n",
    "# Create a dataframe for outphased capacity\n",
    "CapOut = pd.DataFrame({\n",
    "    'Plant': ['Coal', 'Gas', 'Nuclear', 'Wind', 'Solar'],\n",
    "    'OutCap[MW]': [0, 0, 0, 50, 0]\n",
    "})\n",
    "# Create a dataframe for production factor on hourly basis\n",
    "ProdFac = pd.DataFrame({\n",
    "    'Plant': ['Coal', 'Gas', 'Nuclear', 'Wind', 'Solar'],\n",
    "    'ProdFac1': [1, 1, 1, 0.4, 0.2],\n",
    "    'ProdFac2': [1, 1, 1, 0.2, 0.2],\n",
    "    'ProdFac3': [1, 1, 1, 0.4, 0.2],\n",
    "    'ProdFac4': [1, 1, 1, 0.5, 0.2],\n",
    "    'ProdFac5': [1, 1, 1, 0.6, 0.2],\n",
    "    'ProdFac6': [1, 1, 1, 0.7, 0.5],\n",
    "    'ProdFac7': [1, 1, 1, 0.8, 0.2],\n",
    "    'ProdFac8': [1, 1, 1, 0.3, 0.2],\n",
    "    'ProdFac9': [1, 1, 1, 0.45, 0.2],\n",
    "    'ProdFac10': [1, 1, 1, 0.34, 0.2],\n",
    "    'ProdFac11': [1, 1, 1, 0.3, 0.2],\n",
    "    'ProdFac12': [1, 1, 1, 0.3, 0.7],\n",
    "    'ProdFac13': [1, 1, 1, 0.3, 0.2],\n",
    "    'ProdFac14': [1, 1, 1, 0.7, 0.2],\n",
    "    'ProdFac15': [1, 1, 1, 0.3, 0.2],\n",
    "    'ProdFac16': [1, 1, 1, 0.3, 0.2],\n",
    "    'ProdFac17': [1, 1, 1, 0.6, 0.5],\n",
    "    'ProdFac18': [1, 1, 1, 0.3, 0.2],\n",
    "    'ProdFac19': [1, 1, 1, 0.3, 0.2],\n",
    "    'ProdFac20': [1, 1, 1, 0.2, 0.2],\n",
    "    'ProdFac21': [1, 1, 1, 0.3, 0.2],\n",
    "    'ProdFac22': [1, 1, 1, 0.3, 0.2],\n",
    "    'ProdFac23': [1, 1, 1, 0.3, 0.2],\n",
    "    'ProdFac24': [1, 1, 1, 0.3, 0.2]\n",
    "\n",
    "})\n",
    "\n",
    "# Create a dataframe for demand on hourly basis\n",
    "Demand = pd.DataFrame({\n",
    "    'Hour': [1, 2, 3, 4, 5, 6, 7, 8, 9, 10, 11, 12, 13, 14, 15, 16, 17, 18, 19, 20, 21, 22, 23, 24],\n",
    "    'Demand[MWh]': [500,600,555,343,644,343,535,223,535,634,343,535,223,535,634,343,535,223,535,634,343,535,223,535]\n",
    "})\n",
    "\n",
    "# Create a dataframe for eta charge\n",
    "EtaCh = pd.DataFrame({\n",
    "    'Plant': ['Battery', 'Pumped Hydro'],\n",
    "    'EtaCh': [0.9, 0.8]\n",
    "})\n",
    "\n",
    "# Create a dataframe for eta discharge\n",
    "EtaDis = pd.DataFrame({\n",
    "    'Plant': ['Battery', 'Pumped Hydro'],\n",
    "    'EtaDis': [0.9, 0.8]\n",
    "})\n",
    "\n",
    "# Create a dataframe for existing storage capacity\n",
    "StorExi = pd.DataFrame({\n",
    "    'Plant': ['Battery', 'Pumped Hydro'],\n",
    "    'ExStor[MWh]': [40, 10]\n",
    "})\n"
   ]
  },
  {
   "cell_type": "markdown",
   "metadata": {},
   "source": [
    "## Defining Input Parameters"
   ]
  },
  {
   "cell_type": "code",
   "execution_count": 12,
   "metadata": {},
   "outputs": [],
   "source": [
    "# Define number of hours as length of demand\n",
    "N_Hours = len(Demand)\n",
    "\n",
    "# Define number of generators as length of CapCost\n",
    "N_Cap = len(CapCost)\n",
    "\n",
    "# Define number of storage as length of StorCost\n",
    "N_Stor = len(StorCost)\n",
    "\n",
    "# Define epsilon\n",
    "epsilon = 0.9\n",
    "\n",
    "#Define delta\n",
    "delta = 0.8"
   ]
  },
  {
   "cell_type": "markdown",
   "metadata": {},
   "source": [
    "## Defining classes"
   ]
  },
  {
   "cell_type": "code",
   "execution_count": 13,
   "metadata": {},
   "outputs": [],
   "source": [
    "# Class for external input data\n",
    "class InputData():\n",
    "    def __init__(self, CapCost, OpCost, StorCost, CapLim,CapExi,CapOut,ProdFactor,Dem,EtaCha,EtaDis,StorExi):\n",
    "        self.CapCost = CapCost,\n",
    "        self.OpCost = OpCost,\n",
    "        self.StorCost = StorCost,\n",
    "        self.CapLim = CapLim,\n",
    "        self.CapExi = CapExi,\n",
    "        self.CapOut = CapOut,\n",
    "        self.ProdFactor = ProdFactor\n",
    "        self.Dem = Dem,\n",
    "        self.EtaCha = EtaCha,\n",
    "        self.EtaDis = EtaDis,\n",
    "        self.StorExi = StorExi\n",
    "\n",
    "        "
   ]
  },
  {
   "cell_type": "code",
   "execution_count": 14,
   "metadata": {},
   "outputs": [],
   "source": [
    "# Class for model parameters\n",
    "class Parameters():\n",
    "    def __init__(self, epsilon, delta, N_Hours, N_Cap, N_Stor):\n",
    "        self.epsilon = epsilon,\n",
    "        self.delta = delta,\n",
    "        self.N_Hours = N_Hours,\n",
    "        self.N_Cap = N_Cap,\n",
    "        self.N_Stor = N_Stor"
   ]
  },
  {
   "cell_type": "markdown",
   "metadata": {},
   "source": [
    "## Creating Data and Parameter Objects"
   ]
  },
  {
   "cell_type": "code",
   "execution_count": 16,
   "metadata": {},
   "outputs": [],
   "source": [
    "ParametersObj = Parameters(epsilon, delta, N_Hours, N_Cap, N_Stor)\n",
    "DataObj = InputData(CapCost, OpCost, StorCost, CapLim,CapExi,CapOut,ProdFac,Demand,EtaCh,EtaDis,StorExi)\n"
   ]
  },
  {
   "cell_type": "markdown",
   "metadata": {},
   "source": [
    "## Creating the Model"
   ]
  },
  {
   "cell_type": "code",
   "execution_count": 21,
   "metadata": {},
   "outputs": [],
   "source": [
    "# CLASS WHICH CAN HAVE ATTRIBUTES SET\n",
    "\n",
    "class Expando(object):\n",
    "    '''\n",
    "        A small class which can have attributes set\n",
    "    '''\n",
    "    pass"
   ]
  },
  {
   "cell_type": "code",
   "execution_count": 22,
   "metadata": {},
   "outputs": [],
   "source": [
    "# Defining the optimization model class\n",
    "\n",
    "class CapacityProblem():\n",
    "    def __init__(self, ParametersObj, DataObj, Model_results = 1, Guroby_results = 1):\n",
    "        self.P = ParametersObj # Parameters\n",
    "        self.D = DataObj # Data\n",
    "        self.Model_results = Model_results\n",
    "        self.Guroby_results = Guroby_results\n",
    "        self.var = Expando()  # Variables\n",
    "        self.con = Expando()  # Constraints\n",
    "        self.res = Expando()  # Results\n",
    "        self._build_model() \n",
    "\n",
    "\n",
    "    def _build_variables(self):\n",
    "        # Create the variables\n",
    "        self.var.CapNew = self.m.addMVar((self.P.N_Cap), lb=0)  # New Capacity for each type of generator technology\n",
    "        self.var.EGen = self.m.addMVar((self.P.N_Cap, self.P.N_Hours), lb=0)  # Energy Production for each type of generator technology for each hour and scenario\n",
    "        self.var.CapStor = self.m.addMVar((self.P.N_Stor), lb=0)  # New storage capacity for each type of storage technology\n",
    "        self.var.SOC = self.m.addMVar((self.P.N_Stor, self.P.N_Hours), lb=0)  # State of charge for each type of storage technology for each hour and scenario  \n",
    "        self.var.EChar = self.m.addMVar((self.P.N_Stor, self.P.N_Hours), lb=0)  # Energy charged for each type of storage technology for each hour and scenario\n",
    "        self.var.EDis = self.m.addMVar((self.P.N_Stor, self.P.N_Hours), lb=0)  # Energy discharged for each type of storage technology for each hour and scenario\n",
    "\n",
    "\n",
    "    def _build_constraints(self):\n",
    "        # Limit new capacity by maximum investable capacity for each type of generator technology\n",
    "        for g in range(self.P.N_Cap):\n",
    "            self.con.CapLim = self.m.addConstr(self.var.CapNew[g] <= self.D.CapLim[g], name='Capacity limit')\n",
    "        \n",
    "        # Production limited by sum of new capacity, existing capacity and phased out capacity times the production factor\n",
    "        for g in range(self.P.N_Cap):\n",
    "            for h in range(self.P.N_Hours):\n",
    "                #for s in range(self.P.N_Scen):\n",
    "                    self.con.ProdLim = self.m.addConstr(self.var.EGen[g, h] <= (self.var.CapNew[g] + self.D.CapExi[g] + self.D.CapOut[g]) * self.D.ProdFactor[g,h], name='Production limit')\n",
    "\n",
    "        # Energy Balance constraint - generation and discharge needs to equal demand and charging for each hour and scenario\n",
    "        for h in range(self.P.N_Hours):\n",
    "            #for s in range(self.P.N_Scen):\n",
    "                self.con.Balance = self.m.addConstr(gp.quicksum(self.var.EGen[:, h]) + gp.quicksum(self.var.EDis[:, h]) * self.D.EtaDis == self.D.Dem[h] + gp.quicksum(self.var.EChar[:, h]), name='Energy balance')\n",
    "\n",
    "        # Defining RES share as a percentage of total energy demand for each scenario\n",
    "        # for s in range(self.P.N_Scen):\n",
    "        #     self.con.RESShare = self.m.addConstr(gp.quicksum(self.var.EGen[0, :, s]) >= self.P.epsilon * gp.quicksum(self.D.Dem[:, s]), name='RES share')\n",
    "\n",
    "        # Defining SOC as SOC from previous hour plus energy charged minus energy discharged for each hour and scenario\n",
    "        for u in range(self.P.N_Stor):\n",
    "            for h in range(1, self.P.N_Hours):\n",
    "                #for s in range(self.P.N_Scen):\n",
    "                    self.con.SOC = self.m.addConstr(self.var.SOC[u, h] == self.var.SOC[u, h-1] + self.var.EChar[u, h] * self.D.EtaCha - self.var.EDis[u, h], name='State of charge')\n",
    "\n",
    "        # Limit SOC by maximum storage capacity for each type of storage technology\n",
    "        for u in range(self.P.N_Stor):\n",
    "            for h in range(self.P.N_Hours):\n",
    "                #for s in range(self.P.N_Scen):\n",
    "                    self.con.SOCLim = self.m.addConstr(self.var.SOC[u, h] <= self.var.CapStor[u] + self.D.StorExi[u], name='Storage capacity limit')\n",
    "\n",
    "        # Limit charged energy by capacity minus state of charge for each hour and scenario\n",
    "        for u in range(self.P.N_Stor):\n",
    "            for h in range(self.P.N_Hours):\n",
    "                #for s in range(self.P.N_Scen):\n",
    "                    self.con.ECharLim = self.m.addConstr(self.var.EChar[u, h] * self.D.EtaCha <= self.var.CapStor[u] + self.D.StorExi[u] - self.var.SOC[u, h], name='Energy charged limit')\n",
    "\n",
    "        # Limit discharged energy by state of charge for each hour and scenario\n",
    "        for u in range(self.P.N_Stor):\n",
    "            for h in range(self.P.N_Hours):\n",
    "                #for s in range(self.P.N_Scen):\n",
    "                    self.con.EDisLim = self.m.addConstr(self.var.EDis[u, h] <= self.var.SOC[u, h], name='Energy discharged limit')\n",
    "\n",
    "\n",
    "        \n",
    "    \n",
    "    def _build_objective(self):\n",
    "        # Objective function\n",
    "        objective = gp.quicksum(self.var.CapNew[g] * self.D.CapCost[g] for g in range(self.P.N_Cap))  # Cost for new capacity for each type of generator technology\n",
    "        + gp.quicksum(self.var.EGen[g,h] * self.D.OpCost[g] for g in range(self.P.N_Cap) for h in range(self.P.N_Hours)) # Operating cost for each type of generator technology for each hour and scenario\n",
    "        + gp.quicksum(self.var.CapStor[u] * self.D.StorCost[u] for u in range(self.P.N_Stor)) # Cost for new storage capacity for each type of storage technology\n",
    "        self.m.setObjective(objective, GRB.MINIMIZE)\n",
    "\n",
    "\n",
    "    def _display_guropby_results(self):\n",
    "        self.m.setParam('OutputFlag', self.Guroby_results)\n",
    "\n",
    "    \n",
    "    def _build_model(self):\n",
    "        self.m = gp.Model('CapacityProblem')\n",
    "        self._build_variables()\n",
    "        self._build_constraints()\n",
    "        self._build_objective()\n",
    "        self._display_guropby_results()\n",
    "        self.m.optimize()\n",
    "        self._results()\n",
    "        if self.Model_results == 1:\n",
    "            self._extract_results()\n",
    "            \n",
    "\n",
    "    \n",
    "    def _results(self):\n",
    "        self.res.obj = self.m.objVal\n",
    "        self.res.CapNew = self.var.CapNew.X\n",
    "        self.res.EGen = self.var.EGen.X\n",
    "        self.res.CapStor = self.var.CapStor.X\n",
    "        self.res.SOC = self.var.SOC.X\n",
    "        self.res.EChar = self.var.EChar.X\n",
    "        self.res.EDis = self.var.EDis.X\n",
    "\n",
    "    def _extract_results(self):\n",
    "        # Display the objective value\n",
    "        print('Objective value: ', self.m.objVal)\n",
    "        # Display the new capacity for each type of generator technology\n",
    "        print('New capacity for each type of generator technology: ', self.res.CapNew)\n",
    "        "
   ]
  },
  {
   "cell_type": "markdown",
   "metadata": {},
   "source": [
    "## Execute the model"
   ]
  },
  {
   "cell_type": "code",
   "execution_count": 23,
   "metadata": {},
   "outputs": [
    {
     "name": "stdout",
     "output_type": "stream",
     "text": [
      "Set parameter Username\n"
     ]
    },
    {
     "ename": "GurobiError",
     "evalue": "License expired 2025-01-29",
     "output_type": "error",
     "traceback": [
      "\u001b[1;31m---------------------------------------------------------------------------\u001b[0m",
      "\u001b[1;31mGurobiError\u001b[0m                               Traceback (most recent call last)",
      "Cell \u001b[1;32mIn[23], line 1\u001b[0m\n\u001b[1;32m----> 1\u001b[0m CapacityProblem \u001b[38;5;241m=\u001b[39m \u001b[43mCapacityProblem\u001b[49m\u001b[43m(\u001b[49m\u001b[43mParametersObj\u001b[49m\u001b[43m,\u001b[49m\u001b[43m \u001b[49m\u001b[43mDataObj\u001b[49m\u001b[43m)\u001b[49m\n",
      "Cell \u001b[1;32mIn[22], line 12\u001b[0m, in \u001b[0;36mCapacityProblem.__init__\u001b[1;34m(self, ParametersObj, DataObj, Model_results, Guroby_results)\u001b[0m\n\u001b[0;32m     10\u001b[0m \u001b[38;5;28mself\u001b[39m\u001b[38;5;241m.\u001b[39mcon \u001b[38;5;241m=\u001b[39m Expando()  \u001b[38;5;66;03m# Constraints\u001b[39;00m\n\u001b[0;32m     11\u001b[0m \u001b[38;5;28mself\u001b[39m\u001b[38;5;241m.\u001b[39mres \u001b[38;5;241m=\u001b[39m Expando()  \u001b[38;5;66;03m# Results\u001b[39;00m\n\u001b[1;32m---> 12\u001b[0m \u001b[38;5;28;43mself\u001b[39;49m\u001b[38;5;241;43m.\u001b[39;49m\u001b[43m_build_model\u001b[49m\u001b[43m(\u001b[49m\u001b[43m)\u001b[49m\n",
      "Cell \u001b[1;32mIn[22], line 85\u001b[0m, in \u001b[0;36mCapacityProblem._build_model\u001b[1;34m(self)\u001b[0m\n\u001b[0;32m     84\u001b[0m \u001b[38;5;28;01mdef\u001b[39;00m \u001b[38;5;21m_build_model\u001b[39m(\u001b[38;5;28mself\u001b[39m):\n\u001b[1;32m---> 85\u001b[0m     \u001b[38;5;28mself\u001b[39m\u001b[38;5;241m.\u001b[39mm \u001b[38;5;241m=\u001b[39m \u001b[43mgp\u001b[49m\u001b[38;5;241;43m.\u001b[39;49m\u001b[43mModel\u001b[49m\u001b[43m(\u001b[49m\u001b[38;5;124;43m'\u001b[39;49m\u001b[38;5;124;43mCapacityProblem\u001b[39;49m\u001b[38;5;124;43m'\u001b[39;49m\u001b[43m)\u001b[49m\n\u001b[0;32m     86\u001b[0m     \u001b[38;5;28mself\u001b[39m\u001b[38;5;241m.\u001b[39m_build_variables()\n\u001b[0;32m     87\u001b[0m     \u001b[38;5;28mself\u001b[39m\u001b[38;5;241m.\u001b[39m_build_constraints()\n",
      "File \u001b[1;32msrc\\\\gurobipy\\\\model.pxi:80\u001b[0m, in \u001b[0;36mgurobipy.Model.__init__\u001b[1;34m()\u001b[0m\n",
      "File \u001b[1;32msrc\\\\gurobipy\\\\gurobi.pxi:60\u001b[0m, in \u001b[0;36mgurobipy.gurobi._getdefaultenv\u001b[1;34m()\u001b[0m\n",
      "File \u001b[1;32msrc\\\\gurobipy\\\\env.pxi:70\u001b[0m, in \u001b[0;36mgurobipy.Env.__init__\u001b[1;34m()\u001b[0m\n",
      "\u001b[1;31mGurobiError\u001b[0m: License expired 2025-01-29"
     ]
    }
   ],
   "source": [
    "CapacityProblem = CapacityProblem(ParametersObj, DataObj)"
   ]
  }
 ],
 "metadata": {
  "kernelspec": {
   "display_name": "Python 3",
   "language": "python",
   "name": "python3"
  },
  "language_info": {
   "codemirror_mode": {
    "name": "ipython",
    "version": 3
   },
   "file_extension": ".py",
   "mimetype": "text/x-python",
   "name": "python",
   "nbconvert_exporter": "python",
   "pygments_lexer": "ipython3",
   "version": "3.11.9"
  }
 },
 "nbformat": 4,
 "nbformat_minor": 2
}
