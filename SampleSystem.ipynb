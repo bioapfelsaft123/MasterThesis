{
 "cells": [
  {
   "cell_type": "markdown",
   "metadata": {},
   "source": [
    "## Importing needed packages"
   ]
  },
  {
   "cell_type": "code",
   "execution_count": 1,
   "metadata": {},
   "outputs": [],
   "source": [
    "import numpy as np\n",
    "import gurobipy as gp\n",
    "from gurobipy import GRB\n",
    "import pandas as pd"
   ]
  },
  {
   "cell_type": "markdown",
   "metadata": {},
   "source": [
    "## Defining classes"
   ]
  },
  {
   "cell_type": "code",
   "execution_count": null,
   "metadata": {},
   "outputs": [],
   "source": [
    "# Class for external input data\n",
    "class InputData():\n",
    "    def __init__(self, CapCost, OpCost, StorCost, CapLim,CapExi,CapOut,ProdFactor,Dem,EtaCha,EtaDis,StorExi):\n",
    "        self.CapCost = CapCost,\n",
    "        self.OpCost = OpCost,\n",
    "        self.StorCost = StorCost,\n",
    "        self.CapLim = CapLim,\n",
    "        self.CapExi = CapExi,\n",
    "        self.CapOut = CapOut,\n",
    "        self.ProdFactor = ProdFactor\n",
    "        self.Dem = Dem,\n",
    "        self.EtaCha = EtaCha,\n",
    "        self.EtaDis = EtaDis,\n",
    "        self.StorExi = StorExi\n",
    "\n",
    "        "
   ]
  },
  {
   "cell_type": "code",
   "execution_count": null,
   "metadata": {},
   "outputs": [],
   "source": [
    "# Class for model parameters\n",
    "class InputData():\n",
    "    def __init__(self, epsilon, delta ):\n",
    "        self.epsilon = epsilon,\n",
    "        self.delta = delta"
   ]
  },
  {
   "cell_type": "code",
   "execution_count": null,
   "metadata": {},
   "outputs": [],
   "source": [
    "# CLASS WHICH CAN HAVE ATTRIBUTES SET\n",
    "\n",
    "class Expando(object):\n",
    "    '''\n",
    "        A small class which can have attributes set\n",
    "    '''\n",
    "    pass"
   ]
  },
  {
   "cell_type": "code",
   "execution_count": null,
   "metadata": {},
   "outputs": [],
   "source": [
    "# Defining the optimization model class\n",
    "\n",
    "class CapacityProblem():\n",
    "    def __init__(self, ParametersObj, DataObj, Model_results = 1, Guroby_results = 1):\n",
    "        self.P = ParametersObj # Parameters\n",
    "        self.D = DataObj # Data\n",
    "        self.Model_results = Model_results\n",
    "        self.Guroby_results = Guroby_results\n",
    "        self.var = Expando()  # Variables\n",
    "        self.con = Expando()  # Constraints\n",
    "        self.res = Expando()  # Results\n",
    "        self._build_model() \n",
    "\n",
    "\n",
    "    def _build_variables(self):\n",
    "        # Create the variables\n",
    "        self.var.CapNew = self.m.addMVar((self.P.N_Cap), lb=0)  # New Capacity for each type of generator technology\n",
    "        self.var.EGen = self.m.addMVar((self.P.N_Cap, self.P.N_Hours, self.P.N_Scen), lb=0)  # Energy Production for each type of generator technology for each hour and scenario\n",
    "        self.var.CapStor = self.m.addMVar((self.P.N_Stor), lb=0)  # New storage capacity for each type of storage technology\n",
    "        self.var.SOC = self.m.addMVar((self.P.N_Stor, self.P.N_Hours, self.P.N_Scen), lb=0)  # State of charge for each type of storage technology for each hour and scenario  \n",
    "        self.var.EChar = self.m.addMVar((self.P.N_Stor, self.P.N_Hours, self.P.N_Scen), lb=0)  # Energy charged for each type of storage technology for each hour and scenario\n",
    "        self.var.EDis = self.m.addMVar((self.P.N_Stor, self.P.N_Hours, self.P.N_Scen), lb=0)  # Energy discharged for each type of storage technology for each hour and scenario\n",
    "\n",
    "\n",
    "    def _build_constraints(self):\n",
    "        # Power flow constraints, one per transmission line\n",
    "        self.con.power_flow_0 = self.m.addConstr(self.var.theta @ self.P.first_zone == self.P.voltage_angle_0, name='Initial voltage angle')\n",
    "        self.Inv_Trans_React = 1/self.D.Trans_React\n",
    "        Delta_theta = self.var.theta @ self.D.Trans_Line_From_Z - self.var.theta @ self.D.Trans_Line_To_Z\n",
    "        self.con.power_flow = self.m.addConstr(self.P.Sum_over_hours @ self.Inv_Trans_React.T * Delta_theta <= self.P.Sum_over_hours @ self.D.Trans_Cap.T, name='Power flow constraint')\n",
    "\n",
    "        # Max demand constraint\n",
    "        self.con.max_dem = self.m.addConstr(self.var.d <= self.D.Dem, name='Maximum demand')\n",
    "\n",
    "        # Max production constraint\n",
    "        self.con.max_p_E = self.m.addConstr(self.var.p_E <= self.D.Gen_E_OpCap * (self.P.Sum_over_hours @ self.D.Gen_E_Cap.T), name='Maximum production of existing generators')\n",
    "\n",
    "        # Balance constraint\n",
    "        prod_zone = self.var.p_E @ self.D.Gen_E_Z.T\n",
    "        dem_zone = self.var.d @ self.D.Load_Z.T\n",
    "        trans_zone = self.P.Sum_over_hours @ self.Inv_Trans_React.T * (self.var.theta - self.var.theta @ self.D.Trans_Z_Connected_To_Z.T)\n",
    "        self.con.balance = self.m.addConstr(dem_zone - prod_zone == -trans_zone, name='Demand balance')\n",
    "        \n",
    "    \n",
    "    def _build_objective(self):\n",
    "        # Objective function\n",
    "        objective = gp.quicksum(self.var.d @ self.D.Uti - self.var.p_E @ self.D.Gen_E_OpCost)\n",
    "        self.m.setObjective(objective, GRB.MAXIMIZE)\n",
    "\n",
    "\n",
    "    def _display_guropby_results(self):\n",
    "        self.m.setParam('OutputFlag', self.Guroby_results)\n",
    "\n",
    "    \n",
    "    def _build_model(self):\n",
    "        self.m = gp.Model('Market Clearing Problem')\n",
    "        self._build_variables()\n",
    "        self._build_constraints()\n",
    "        self._build_objective()\n",
    "        self._display_guropby_results()\n",
    "        self.m.optimize()\n",
    "        self._results()\n",
    "        if self.Model_results == 1:\n",
    "            self._extract_results()\n",
    "            \n",
    "\n",
    "    \n",
    "    def _results(self):\n",
    "        self.res.obj = self.m.objVal\n",
    "        self.res.d = self.var.d.X\n",
    "        self.res.p_E = self.var.p_E.X\n",
    "        self.res.DA_price = self.con.balance.Pi\n",
    "\n",
    "    def _extract_results(self):\n",
    "        # Display the objective value\n",
    "        print('Objective value: ', self.m.objVal)\n",
    "        \n",
    "        # Display the optimal values of the decision variables for the 24 first hours in a df, looping through the zones\n",
    "        n_test = self.P.N\n",
    "        self.res.df = pd.DataFrame(columns=['Hour'])\n",
    "        self.res.df['Hour'] = np.arange(1, n_test + 1)\n",
    "        Load = self.var.d[0:n_test].X @ self.D.Load_Z.T\n",
    "        Existing_gen = self.var.p_E[0:n_test].X @ self.D.Gen_E_Z.T\n",
    "        Price = self.con.balance.Pi[0:n_test]\n",
    "        Trans = self.P.Sum_over_hours[0:n_test] @ self.Inv_Trans_React.T * (self.var.theta[0:n_test].X @ self.D.Trans_Line_From_Z - self.var.theta[0:n_test].X @ self.D.Trans_Line_To_Z)\n",
    "        for zone in range(self.P.N_zone):\n",
    "            self.res.df['Load Zone ' + str(zone)] = Load[:, zone]\n",
    "            self.res.df['Existing generators Zone ' + str(zone)] = Existing_gen[:, zone]\n",
    "            self.res.df['Price Zone ' + str(zone)] = Price[:, zone]\n",
    "        for line in range(self.P.N_line):\n",
    "            self.res.df['Power flow line ' + str(line + 1)] = Trans[:, line]"
   ]
  }
 ],
 "metadata": {
  "kernelspec": {
   "display_name": "Python 3",
   "language": "python",
   "name": "python3"
  },
  "language_info": {
   "codemirror_mode": {
    "name": "ipython",
    "version": 3
   },
   "file_extension": ".py",
   "mimetype": "text/x-python",
   "name": "python",
   "nbconvert_exporter": "python",
   "pygments_lexer": "ipython3",
   "version": "3.11.9"
  }
 },
 "nbformat": 4,
 "nbformat_minor": 2
}
