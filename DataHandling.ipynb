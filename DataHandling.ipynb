{
 "cells": [
  {
   "cell_type": "code",
   "execution_count": 29,
   "metadata": {},
   "outputs": [],
   "source": [
    "import numpy as np\n",
    "import pandas as pd\n",
    "from scipy.stats import norm"
   ]
  },
  {
   "cell_type": "code",
   "execution_count": null,
   "metadata": {},
   "outputs": [
    {
     "data": {
      "text/plain": [
       "array([[0.08568649, 0.0744974 , 0.0746079 , ..., 0.07093386, 0.05312274,\n",
       "        0.06916095],\n",
       "       [0.19624851, 0.19792119, 0.2054145 , ..., 0.20749198, 0.21673167,\n",
       "        0.20104029],\n",
       "       [0.16302431, 0.17023637, 0.16613435, ..., 0.18612423, 0.1615369 ,\n",
       "        0.15638293],\n",
       "       ...,\n",
       "       [0.02535028, 0.04547526, 0.03258617, ..., 0.04453314, 0.03050138,\n",
       "        0.05662784],\n",
       "       [0.00844869, 0.02077567, 0.02126999, ..., 0.02496481, 0.01457278,\n",
       "        0.0161915 ],\n",
       "       [0.        , 0.00413999, 0.01713962, ..., 0.00119219, 0.01764576,\n",
       "        0.01915015]])"
      ]
     },
     "execution_count": 30,
     "metadata": {},
     "output_type": "execute_result"
    }
   ],
   "source": [
    "import numpy as np\n",
    "import pandas as pd\n",
    "from scipy.stats import norm\n",
    "\n",
    "# Given single time series for Wind and Solar (1 row, 24 hours each)\n",
    "ProdFacWind = np.array([[  \n",
    "    0.07149117259925315, 0.20690652911053053, 0.17089549294945167, 0.18881997277064186, \n",
    "    0.20005366722911527, 0.36282711876056234, 0.4851625621195393, 0.609154052662755, \n",
    "    0.6635074058672907, 0.8744552242877893, 0.7799802294571636, 0.8414978281203519, \n",
    "    0.9364414827427749, 0.9645481320075096, 0.9312765663817734, 0.7834986690899264, \n",
    "    0.6829013245988148, 0.5967793277038156, 0.4073780665068157, 0.33104623367164343, \n",
    "    0.33071882539854985, 0.24498913233631167, 0.1011445772753432, 0.13822843349204414\n",
    "]])\n",
    "\n",
    "ProdFacSolar = np.array([[  \n",
    "    0.003151111598444441, 0.007907054051593435, 0.01831563888873418, 0.039163895098987066, \n",
    "    0.07730474044329971, 0.14085842092104503, 0.23692775868212176, 0.3678794411714424, \n",
    "    0.5272924240430484, 0.697676326071031, 0.521437889662112, 0.9607894391523233, \n",
    "    1.0, 0.9607894391523233, 0.521437889662112, 0.697676326071031, \n",
    "    0.272924240430484, 0.3678794411714424, 0.23692775868212176, 0.14085842092104503, \n",
    "    0.07730474044329971, 0.039163895098987066, 0.01831563888873418, 0.007907054051593435\n",
    "]])\n",
    "\n",
    "# Transpose to correct format (Hours × 1 Scenario)\n",
    "ProdFacWind = ProdFacWind.T  # Shape: (24, 1)\n",
    "ProdFacSolar = ProdFacSolar.T  # Shape: (24, 1)\n",
    "\n",
    "# Number of new scenarios to generate\n",
    "num_scenarios = 5000\n",
    "num_hours = 24  # 24-hour period\n",
    "\n",
    "# Step 1: Fit Normal Distributions for Each Hour (Using Small Variability)\n",
    "wind_distributions = {}\n",
    "solar_distributions = {}\n",
    "\n",
    "for hour in range(num_hours):\n",
    "    # Wind\n",
    "    wind_mean = ProdFacWind[hour, 0]\n",
    "    wind_std_dev = max(0.05 * wind_mean, 0.01)  # 5% of mean, at least 0.01\n",
    "    wind_distributions[hour] = (wind_mean, wind_std_dev)\n",
    "\n",
    "    # Solar\n",
    "    solar_mean = ProdFacSolar[hour, 0]\n",
    "    solar_std_dev = max(0.05 * solar_mean, 0.01)  # 5% of mean, at least 0.01\n",
    "    solar_distributions[hour] = (solar_mean, solar_std_dev)\n",
    "\n",
    "# Step 2: Generate New Scenarios Using Monte Carlo Sampling\n",
    "generated_wind = np.zeros((num_hours, num_scenarios))\n",
    "generated_solar = np.zeros((num_hours, num_scenarios))\n",
    "\n",
    "for scenario in range(num_scenarios):\n",
    "    for hour in range(num_hours):\n",
    "        # Wind Sampling\n",
    "        wind_mean, wind_std_dev = wind_distributions[hour]\n",
    "        wind_sample = np.random.normal(wind_mean, wind_std_dev)\n",
    "        generated_wind[hour, scenario] = np.clip(wind_sample, 0, 1)\n",
    "\n",
    "        # Solar Sampling\n",
    "        solar_mean, solar_std_dev = solar_distributions[hour]\n",
    "        solar_sample = np.random.normal(solar_mean, solar_std_dev)\n",
    "        generated_solar[hour, scenario] = np.clip(solar_sample, 0, 1)\n"
   ]
  },
  {
   "cell_type": "code",
   "execution_count": null,
   "metadata": {},
   "outputs": [],
   "source": []
  }
 ],
 "metadata": {
  "kernelspec": {
   "display_name": "Python 3",
   "language": "python",
   "name": "python3"
  },
  "language_info": {
   "codemirror_mode": {
    "name": "ipython",
    "version": 3
   },
   "file_extension": ".py",
   "mimetype": "text/x-python",
   "name": "python",
   "nbconvert_exporter": "python",
   "pygments_lexer": "ipython3",
   "version": "3.11.9"
  }
 },
 "nbformat": 4,
 "nbformat_minor": 2
}
